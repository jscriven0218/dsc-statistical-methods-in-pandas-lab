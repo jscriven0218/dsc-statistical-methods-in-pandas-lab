{
  "cells": [
    {
      "cell_type": "markdown",
      "metadata": {
        "id": "BxeBF7QtOkYe"
      },
      "source": [
        "# Statistical Methods in Pandas - Lab"
      ]
    },
    {
      "cell_type": "markdown",
      "metadata": {
        "id": "dvtJH3OVOkYf"
      },
      "source": [
        "## Introduction\n",
        "\n",
        "In this lab you'll get some hands-on experience using some of the key summary statistics methods in Pandas."
      ]
    },
    {
      "cell_type": "markdown",
      "metadata": {
        "id": "OjmD5AG3OkYf"
      },
      "source": [
        "## Objectives\n",
        "You will be able to:\n",
        "\n",
        "- Calculate summary statistics for a series and DataFrame\n",
        "- Use the `.apply()` or `.applymap()` methods to apply a function to a pandas series or DataFrame  \n",
        "\n",
        "\n",
        "## Getting Started\n",
        "\n",
        "For this lab, we'll be working with a dataset containing information on various lego datasets. You will find this dataset in the file `'lego_sets.csv'`.   \n",
        "\n",
        "In the cell below:\n",
        "\n",
        "- Import Pandas and set the standard alias of `pd`\n",
        "- Import the `'lego_sets.csv'` dataset\n",
        "- Display the first five rows of the DataFrame to get a feel for what we'll be working with"
      ]
    },
    {
      "cell_type": "code",
      "execution_count": 1,
      "metadata": {
        "id": "FK5ioTM5OkYf",
        "outputId": "79d785f9-8399-4703-d994-ba9cf29b45c7",
        "colab": {
          "base_uri": "https://localhost:8080/",
          "height": 293
        }
      },
      "outputs": [
        {
          "output_type": "execute_result",
          "data": {
            "text/plain": [
              "     ages  list_price  num_reviews  piece_count  play_star_rating  \\\n",
              "0  12-Jun       29.99          2.0          277               4.0   \n",
              "1  12-Jun       19.99          2.0          168               4.0   \n",
              "2  12-Jun       12.99         11.0           74               4.3   \n",
              "3     12+       99.99         23.0         1032               3.6   \n",
              "4     12+       79.99         14.0          744               3.2   \n",
              "\n",
              "                                           prod_desc  prod_id  \\\n",
              "0  Catapult into action and take back the eggs fr...    75823   \n",
              "1  Launch a flying attack and rescue the eggs fro...    75822   \n",
              "2  Chase the piggy with lightning-fast Chuck and ...    75821   \n",
              "3  Explore the architecture of the United States ...    21030   \n",
              "4  Recreate the Solomon R. Guggenheim Museum® wit...    21035   \n",
              "\n",
              "                                      prod_long_desc review_difficulty  \\\n",
              "0  Use the staircase catapult to launch Red into ...           Average   \n",
              "1  Pilot Pig has taken off from Bird Island with ...              Easy   \n",
              "2  Pitch speedy bird Chuck against the Piggy Car....              Easy   \n",
              "3  Discover the architectural secrets of the icon...           Average   \n",
              "4  Discover the architectural secrets of Frank Ll...       Challenging   \n",
              "\n",
              "                         set_name  star_rating    theme_name  val_star_rating  \\\n",
              "0           Bird Island Egg Heist          4.5  Angry Birds™              4.0   \n",
              "1              Piggy Plane Attack          5.0  Angry Birds™              4.0   \n",
              "2                Piggy Car Escape          4.3  Angry Birds™              4.1   \n",
              "3  United States Capitol Building          4.6  Architecture              4.3   \n",
              "4   Solomon R. Guggenheim Museum®          4.6  Architecture              4.1   \n",
              "\n",
              "  country  \n",
              "0      US  \n",
              "1      US  \n",
              "2      US  \n",
              "3      US  \n",
              "4      US  "
            ],
            "text/html": [
              "\n",
              "  <div id=\"df-4679c7de-1068-440e-9af0-98199b1bfd78\" class=\"colab-df-container\">\n",
              "    <div>\n",
              "<style scoped>\n",
              "    .dataframe tbody tr th:only-of-type {\n",
              "        vertical-align: middle;\n",
              "    }\n",
              "\n",
              "    .dataframe tbody tr th {\n",
              "        vertical-align: top;\n",
              "    }\n",
              "\n",
              "    .dataframe thead th {\n",
              "        text-align: right;\n",
              "    }\n",
              "</style>\n",
              "<table border=\"1\" class=\"dataframe\">\n",
              "  <thead>\n",
              "    <tr style=\"text-align: right;\">\n",
              "      <th></th>\n",
              "      <th>ages</th>\n",
              "      <th>list_price</th>\n",
              "      <th>num_reviews</th>\n",
              "      <th>piece_count</th>\n",
              "      <th>play_star_rating</th>\n",
              "      <th>prod_desc</th>\n",
              "      <th>prod_id</th>\n",
              "      <th>prod_long_desc</th>\n",
              "      <th>review_difficulty</th>\n",
              "      <th>set_name</th>\n",
              "      <th>star_rating</th>\n",
              "      <th>theme_name</th>\n",
              "      <th>val_star_rating</th>\n",
              "      <th>country</th>\n",
              "    </tr>\n",
              "  </thead>\n",
              "  <tbody>\n",
              "    <tr>\n",
              "      <th>0</th>\n",
              "      <td>12-Jun</td>\n",
              "      <td>29.99</td>\n",
              "      <td>2.0</td>\n",
              "      <td>277</td>\n",
              "      <td>4.0</td>\n",
              "      <td>Catapult into action and take back the eggs fr...</td>\n",
              "      <td>75823</td>\n",
              "      <td>Use the staircase catapult to launch Red into ...</td>\n",
              "      <td>Average</td>\n",
              "      <td>Bird Island Egg Heist</td>\n",
              "      <td>4.5</td>\n",
              "      <td>Angry Birds™</td>\n",
              "      <td>4.0</td>\n",
              "      <td>US</td>\n",
              "    </tr>\n",
              "    <tr>\n",
              "      <th>1</th>\n",
              "      <td>12-Jun</td>\n",
              "      <td>19.99</td>\n",
              "      <td>2.0</td>\n",
              "      <td>168</td>\n",
              "      <td>4.0</td>\n",
              "      <td>Launch a flying attack and rescue the eggs fro...</td>\n",
              "      <td>75822</td>\n",
              "      <td>Pilot Pig has taken off from Bird Island with ...</td>\n",
              "      <td>Easy</td>\n",
              "      <td>Piggy Plane Attack</td>\n",
              "      <td>5.0</td>\n",
              "      <td>Angry Birds™</td>\n",
              "      <td>4.0</td>\n",
              "      <td>US</td>\n",
              "    </tr>\n",
              "    <tr>\n",
              "      <th>2</th>\n",
              "      <td>12-Jun</td>\n",
              "      <td>12.99</td>\n",
              "      <td>11.0</td>\n",
              "      <td>74</td>\n",
              "      <td>4.3</td>\n",
              "      <td>Chase the piggy with lightning-fast Chuck and ...</td>\n",
              "      <td>75821</td>\n",
              "      <td>Pitch speedy bird Chuck against the Piggy Car....</td>\n",
              "      <td>Easy</td>\n",
              "      <td>Piggy Car Escape</td>\n",
              "      <td>4.3</td>\n",
              "      <td>Angry Birds™</td>\n",
              "      <td>4.1</td>\n",
              "      <td>US</td>\n",
              "    </tr>\n",
              "    <tr>\n",
              "      <th>3</th>\n",
              "      <td>12+</td>\n",
              "      <td>99.99</td>\n",
              "      <td>23.0</td>\n",
              "      <td>1032</td>\n",
              "      <td>3.6</td>\n",
              "      <td>Explore the architecture of the United States ...</td>\n",
              "      <td>21030</td>\n",
              "      <td>Discover the architectural secrets of the icon...</td>\n",
              "      <td>Average</td>\n",
              "      <td>United States Capitol Building</td>\n",
              "      <td>4.6</td>\n",
              "      <td>Architecture</td>\n",
              "      <td>4.3</td>\n",
              "      <td>US</td>\n",
              "    </tr>\n",
              "    <tr>\n",
              "      <th>4</th>\n",
              "      <td>12+</td>\n",
              "      <td>79.99</td>\n",
              "      <td>14.0</td>\n",
              "      <td>744</td>\n",
              "      <td>3.2</td>\n",
              "      <td>Recreate the Solomon R. Guggenheim Museum® wit...</td>\n",
              "      <td>21035</td>\n",
              "      <td>Discover the architectural secrets of Frank Ll...</td>\n",
              "      <td>Challenging</td>\n",
              "      <td>Solomon R. Guggenheim Museum®</td>\n",
              "      <td>4.6</td>\n",
              "      <td>Architecture</td>\n",
              "      <td>4.1</td>\n",
              "      <td>US</td>\n",
              "    </tr>\n",
              "  </tbody>\n",
              "</table>\n",
              "</div>\n",
              "    <div class=\"colab-df-buttons\">\n",
              "\n",
              "  <div class=\"colab-df-container\">\n",
              "    <button class=\"colab-df-convert\" onclick=\"convertToInteractive('df-4679c7de-1068-440e-9af0-98199b1bfd78')\"\n",
              "            title=\"Convert this dataframe to an interactive table.\"\n",
              "            style=\"display:none;\">\n",
              "\n",
              "  <svg xmlns=\"http://www.w3.org/2000/svg\" height=\"24px\" viewBox=\"0 -960 960 960\">\n",
              "    <path d=\"M120-120v-720h720v720H120Zm60-500h600v-160H180v160Zm220 220h160v-160H400v160Zm0 220h160v-160H400v160ZM180-400h160v-160H180v160Zm440 0h160v-160H620v160ZM180-180h160v-160H180v160Zm440 0h160v-160H620v160Z\"/>\n",
              "  </svg>\n",
              "    </button>\n",
              "\n",
              "  <style>\n",
              "    .colab-df-container {\n",
              "      display:flex;\n",
              "      gap: 12px;\n",
              "    }\n",
              "\n",
              "    .colab-df-convert {\n",
              "      background-color: #E8F0FE;\n",
              "      border: none;\n",
              "      border-radius: 50%;\n",
              "      cursor: pointer;\n",
              "      display: none;\n",
              "      fill: #1967D2;\n",
              "      height: 32px;\n",
              "      padding: 0 0 0 0;\n",
              "      width: 32px;\n",
              "    }\n",
              "\n",
              "    .colab-df-convert:hover {\n",
              "      background-color: #E2EBFA;\n",
              "      box-shadow: 0px 1px 2px rgba(60, 64, 67, 0.3), 0px 1px 3px 1px rgba(60, 64, 67, 0.15);\n",
              "      fill: #174EA6;\n",
              "    }\n",
              "\n",
              "    .colab-df-buttons div {\n",
              "      margin-bottom: 4px;\n",
              "    }\n",
              "\n",
              "    [theme=dark] .colab-df-convert {\n",
              "      background-color: #3B4455;\n",
              "      fill: #D2E3FC;\n",
              "    }\n",
              "\n",
              "    [theme=dark] .colab-df-convert:hover {\n",
              "      background-color: #434B5C;\n",
              "      box-shadow: 0px 1px 3px 1px rgba(0, 0, 0, 0.15);\n",
              "      filter: drop-shadow(0px 1px 2px rgba(0, 0, 0, 0.3));\n",
              "      fill: #FFFFFF;\n",
              "    }\n",
              "  </style>\n",
              "\n",
              "    <script>\n",
              "      const buttonEl =\n",
              "        document.querySelector('#df-4679c7de-1068-440e-9af0-98199b1bfd78 button.colab-df-convert');\n",
              "      buttonEl.style.display =\n",
              "        google.colab.kernel.accessAllowed ? 'block' : 'none';\n",
              "\n",
              "      async function convertToInteractive(key) {\n",
              "        const element = document.querySelector('#df-4679c7de-1068-440e-9af0-98199b1bfd78');\n",
              "        const dataTable =\n",
              "          await google.colab.kernel.invokeFunction('convertToInteractive',\n",
              "                                                    [key], {});\n",
              "        if (!dataTable) return;\n",
              "\n",
              "        const docLinkHtml = 'Like what you see? Visit the ' +\n",
              "          '<a target=\"_blank\" href=https://colab.research.google.com/notebooks/data_table.ipynb>data table notebook</a>'\n",
              "          + ' to learn more about interactive tables.';\n",
              "        element.innerHTML = '';\n",
              "        dataTable['output_type'] = 'display_data';\n",
              "        await google.colab.output.renderOutput(dataTable, element);\n",
              "        const docLink = document.createElement('div');\n",
              "        docLink.innerHTML = docLinkHtml;\n",
              "        element.appendChild(docLink);\n",
              "      }\n",
              "    </script>\n",
              "  </div>\n",
              "\n",
              "\n",
              "<div id=\"df-a48e85ca-5b8a-4298-845b-d6f967589cd8\">\n",
              "  <button class=\"colab-df-quickchart\" onclick=\"quickchart('df-a48e85ca-5b8a-4298-845b-d6f967589cd8')\"\n",
              "            title=\"Suggest charts\"\n",
              "            style=\"display:none;\">\n",
              "\n",
              "<svg xmlns=\"http://www.w3.org/2000/svg\" height=\"24px\"viewBox=\"0 0 24 24\"\n",
              "     width=\"24px\">\n",
              "    <g>\n",
              "        <path d=\"M19 3H5c-1.1 0-2 .9-2 2v14c0 1.1.9 2 2 2h14c1.1 0 2-.9 2-2V5c0-1.1-.9-2-2-2zM9 17H7v-7h2v7zm4 0h-2V7h2v10zm4 0h-2v-4h2v4z\"/>\n",
              "    </g>\n",
              "</svg>\n",
              "  </button>\n",
              "\n",
              "<style>\n",
              "  .colab-df-quickchart {\n",
              "      --bg-color: #E8F0FE;\n",
              "      --fill-color: #1967D2;\n",
              "      --hover-bg-color: #E2EBFA;\n",
              "      --hover-fill-color: #174EA6;\n",
              "      --disabled-fill-color: #AAA;\n",
              "      --disabled-bg-color: #DDD;\n",
              "  }\n",
              "\n",
              "  [theme=dark] .colab-df-quickchart {\n",
              "      --bg-color: #3B4455;\n",
              "      --fill-color: #D2E3FC;\n",
              "      --hover-bg-color: #434B5C;\n",
              "      --hover-fill-color: #FFFFFF;\n",
              "      --disabled-bg-color: #3B4455;\n",
              "      --disabled-fill-color: #666;\n",
              "  }\n",
              "\n",
              "  .colab-df-quickchart {\n",
              "    background-color: var(--bg-color);\n",
              "    border: none;\n",
              "    border-radius: 50%;\n",
              "    cursor: pointer;\n",
              "    display: none;\n",
              "    fill: var(--fill-color);\n",
              "    height: 32px;\n",
              "    padding: 0;\n",
              "    width: 32px;\n",
              "  }\n",
              "\n",
              "  .colab-df-quickchart:hover {\n",
              "    background-color: var(--hover-bg-color);\n",
              "    box-shadow: 0 1px 2px rgba(60, 64, 67, 0.3), 0 1px 3px 1px rgba(60, 64, 67, 0.15);\n",
              "    fill: var(--button-hover-fill-color);\n",
              "  }\n",
              "\n",
              "  .colab-df-quickchart-complete:disabled,\n",
              "  .colab-df-quickchart-complete:disabled:hover {\n",
              "    background-color: var(--disabled-bg-color);\n",
              "    fill: var(--disabled-fill-color);\n",
              "    box-shadow: none;\n",
              "  }\n",
              "\n",
              "  .colab-df-spinner {\n",
              "    border: 2px solid var(--fill-color);\n",
              "    border-color: transparent;\n",
              "    border-bottom-color: var(--fill-color);\n",
              "    animation:\n",
              "      spin 1s steps(1) infinite;\n",
              "  }\n",
              "\n",
              "  @keyframes spin {\n",
              "    0% {\n",
              "      border-color: transparent;\n",
              "      border-bottom-color: var(--fill-color);\n",
              "      border-left-color: var(--fill-color);\n",
              "    }\n",
              "    20% {\n",
              "      border-color: transparent;\n",
              "      border-left-color: var(--fill-color);\n",
              "      border-top-color: var(--fill-color);\n",
              "    }\n",
              "    30% {\n",
              "      border-color: transparent;\n",
              "      border-left-color: var(--fill-color);\n",
              "      border-top-color: var(--fill-color);\n",
              "      border-right-color: var(--fill-color);\n",
              "    }\n",
              "    40% {\n",
              "      border-color: transparent;\n",
              "      border-right-color: var(--fill-color);\n",
              "      border-top-color: var(--fill-color);\n",
              "    }\n",
              "    60% {\n",
              "      border-color: transparent;\n",
              "      border-right-color: var(--fill-color);\n",
              "    }\n",
              "    80% {\n",
              "      border-color: transparent;\n",
              "      border-right-color: var(--fill-color);\n",
              "      border-bottom-color: var(--fill-color);\n",
              "    }\n",
              "    90% {\n",
              "      border-color: transparent;\n",
              "      border-bottom-color: var(--fill-color);\n",
              "    }\n",
              "  }\n",
              "</style>\n",
              "\n",
              "  <script>\n",
              "    async function quickchart(key) {\n",
              "      const quickchartButtonEl =\n",
              "        document.querySelector('#' + key + ' button');\n",
              "      quickchartButtonEl.disabled = true;  // To prevent multiple clicks.\n",
              "      quickchartButtonEl.classList.add('colab-df-spinner');\n",
              "      try {\n",
              "        const charts = await google.colab.kernel.invokeFunction(\n",
              "            'suggestCharts', [key], {});\n",
              "      } catch (error) {\n",
              "        console.error('Error during call to suggestCharts:', error);\n",
              "      }\n",
              "      quickchartButtonEl.classList.remove('colab-df-spinner');\n",
              "      quickchartButtonEl.classList.add('colab-df-quickchart-complete');\n",
              "    }\n",
              "    (() => {\n",
              "      let quickchartButtonEl =\n",
              "        document.querySelector('#df-a48e85ca-5b8a-4298-845b-d6f967589cd8 button');\n",
              "      quickchartButtonEl.style.display =\n",
              "        google.colab.kernel.accessAllowed ? 'block' : 'none';\n",
              "    })();\n",
              "  </script>\n",
              "</div>\n",
              "\n",
              "    </div>\n",
              "  </div>\n"
            ],
            "application/vnd.google.colaboratory.intrinsic+json": {
              "type": "dataframe",
              "variable_name": "df",
              "summary": "{\n  \"name\": \"df\",\n  \"rows\": 12261,\n  \"fields\": [\n    {\n      \"column\": \"ages\",\n      \"properties\": {\n        \"dtype\": \"category\",\n        \"num_unique_values\": 31,\n        \"samples\": [\n          \"16-Nov\",\n          \"6+\",\n          \"14-Jun\"\n        ],\n        \"semantic_type\": \"\",\n        \"description\": \"\"\n      }\n    },\n    {\n      \"column\": \"list_price\",\n      \"properties\": {\n        \"dtype\": \"number\",\n        \"std\": 91.9804293059243,\n        \"min\": 2.2724,\n        \"max\": 1104.87,\n        \"num_unique_values\": 733,\n        \"samples\": [\n          12.4671,\n          11.99,\n          396.78\n        ],\n        \"semantic_type\": \"\",\n        \"description\": \"\"\n      }\n    },\n    {\n      \"column\": \"num_reviews\",\n      \"properties\": {\n        \"dtype\": \"number\",\n        \"std\": 36.368983772831406,\n        \"min\": 1.0,\n        \"max\": 367.0,\n        \"num_unique_values\": 86,\n        \"samples\": [\n          70.0,\n          2.0,\n          86.0\n        ],\n        \"semantic_type\": \"\",\n        \"description\": \"\"\n      }\n    },\n    {\n      \"column\": \"piece_count\",\n      \"properties\": {\n        \"dtype\": \"number\",\n        \"std\": 825,\n        \"min\": 1,\n        \"max\": 7541,\n        \"num_unique_values\": 447,\n        \"samples\": [\n          63,\n          775,\n          728\n        ],\n        \"semantic_type\": \"\",\n        \"description\": \"\"\n      }\n    },\n    {\n      \"column\": \"play_star_rating\",\n      \"properties\": {\n        \"dtype\": \"number\",\n        \"std\": 0.6520510342493991,\n        \"min\": 1.0,\n        \"max\": 5.0,\n        \"num_unique_values\": 30,\n        \"samples\": [\n          2.8,\n          4.5,\n          4.9\n        ],\n        \"semantic_type\": \"\",\n        \"description\": \"\"\n      }\n    },\n    {\n      \"column\": \"prod_desc\",\n      \"properties\": {\n        \"dtype\": \"category\",\n        \"num_unique_values\": 731,\n        \"samples\": [\n          \"Create your ideas with LEGO\\u00ae Classic bricks!\",\n          \"Hop to it with a LEGO\\u00ae BrickHeadz\\u2122 Easter Bunny!\",\n          \"Learn to look after the little farm animals!\"\n        ],\n        \"semantic_type\": \"\",\n        \"description\": \"\"\n      }\n    },\n    {\n      \"column\": \"prod_id\",\n      \"properties\": {\n        \"dtype\": \"number\",\n        \"std\": 163811,\n        \"min\": 630,\n        \"max\": 2000431,\n        \"num_unique_values\": 744,\n        \"samples\": [\n          75183,\n          70629,\n          42037\n        ],\n        \"semantic_type\": \"\",\n        \"description\": \"\"\n      }\n    },\n    {\n      \"column\": \"prod_long_desc\",\n      \"properties\": {\n        \"dtype\": \"category\",\n        \"num_unique_values\": 988,\n        \"samples\": [\n          \"Stage a face-off between Wonder Woman\\u2122 and Doomsday\\u2122 in this fun Mighty Micros play set. Dodge Doomsday\\u2019s club by driving\\u2014or flying\\u2014Wonder Woman\\u2019s Invisible Jet, then retaliate with her sword. Includes two minifigures with mini legs.\\nIncludes two minifigures with mini legs: Wonder Woman\\u2122 and Doomsday\\u2122.\\nWonder Woman\\u2019s Mighty Micros jet features translucent elements.\\nDoomsday\\u2019s Mighty Micros car features translucent flame elements.\\nHelp Wonder Woman\\u2122 make her escape by flying off in her Mighty Micros jet!\\nWeapons include Wonder Woman\\u2019s sword and shield, plus Doomsday\\u2019s club.\\nThis set offers an age-appropriate build and play experience for ages 5-12.\\nWonder Woman\\u2019s Mighty Micros jet measures over 1\\u201d (4cm) high, 2\\u201d (6cm) long and 1\\u201d (5cm) wide.\\nDoomsday\\u2019s Mighty Micros car measures over 1\\u201d (4cm) high, 2\\u201d (7cm) long and 1\\u201d (4cm) wide.\",\n          \"Seek the magic within to help Naida protect the Elemental Guardian creature! This exciting LEGO\\u00ae Elves building toy features a large buildable water turtle with movable head and legs, and space for a mini-doll figure, plus a small island with disc shooter and a boat with chain shooter and space for a bat. Includes a mini-doll figure, small turtle figure, fish figure and a bat figure.\\nIncludes a Naida mini-doll figure plus Furi the shadow bat and Calypso the baby turtle figures.\\nFeatures a buildable Cory the Guardian Water Turtle figure that includes space for a baby turtle figure and space on the head for a magic Water \\u2018diamond'.\\nAlso includes a small \\u2018floating' island with disc shooter and space for a fish, plus a small boat with a chain shooter and space for a bat figure.\\nHop on the back of the Guardian Water Turtle and take a ride.\\nJump over to the island and load the disc shooter to fight the evil shadow bat.\\nLaunch the chain from the boat\\u2019s chain shooter to knock the \\u2018diamond\\u2019 from the turtle\\u2019s head.\\nAccessory elements include a cupcake with cherry, Naida\\u2019s power-up staff, 2 discs, 2 flowers, map, magic Water \\u2018diamond' and a fish.\\nThis exciting building toy is suitable for ages 7-12.\\nOther mischievous little bats can be collected in selected LEGO\\u00ae Elves sets.\\nGuardian Water Turtle measures over 1\\u201d (4cm) high, 4\\u201d (12cm) long and 3\\u201d (9cm) wide.\\n\\u2018Floating\\u2019 island measures over 1\\u201d (5cm) high, 3\\u201d (9cm) wide and 2\\u201d (6cm) deep.\\nBoat measures over 2\\u201d (6cm) high, 2\\u201d (6cm) long and under 1\\u201d (2cm) wide.\",\n          \"Drive the Rogul out of Knighton with the 3-in-1 Rumble Maker, featuring dual rotating drill weapons, flip-out wings, detachable tank with caterpillar tracks, axe holder, 2 minifigure cockpits and 2 stud shooters. Includes 3 minifigures and 3 scannable shields.\\nBuild Axl\\u2019s 3-in-1 drilling vehicle, tank & jet to grind down the Stone monsters threatening the kingdom!\\nAs featured in Cartoon Network's LEGO\\u00ae NEXO KNIGHTS\\u2122 series\\nIncludes Axl & Rogul minifigures, plus Axl Bot & Brickster figures\\nLEGO NEXO KNIGHTS building toys are compatible with all LEGO construction sets for creative building\\nThe Rumble Maker is over 3\\u201d high, 11\\u201d long and 9\\u201d wide with wings unfolded\\n393 pieces \\u2013 For boys and girls between the ages of 8 and 14 years old\"\n        ],\n        \"semantic_type\": \"\",\n        \"description\": \"\"\n      }\n    },\n    {\n      \"column\": \"review_difficulty\",\n      \"properties\": {\n        \"dtype\": \"category\",\n        \"num_unique_values\": 5,\n        \"samples\": [\n          \"Easy\",\n          \"Very Challenging\",\n          \"Challenging\"\n        ],\n        \"semantic_type\": \"\",\n        \"description\": \"\"\n      }\n    },\n    {\n      \"column\": \"set_name\",\n      \"properties\": {\n        \"dtype\": \"category\",\n        \"num_unique_values\": 741,\n        \"samples\": [\n          \"ATV Arrest\",\n          \"Batgirl\\u2122 Batjet Chase\",\n          \"The Capture of Sophie Jones\"\n        ],\n        \"semantic_type\": \"\",\n        \"description\": \"\"\n      }\n    },\n    {\n      \"column\": \"star_rating\",\n      \"properties\": {\n        \"dtype\": \"number\",\n        \"std\": 0.5188653617448266,\n        \"min\": 1.8,\n        \"max\": 5.0,\n        \"num_unique_values\": 27,\n        \"samples\": [\n          4.4,\n          3.3,\n          3.4\n        ],\n        \"semantic_type\": \"\",\n        \"description\": \"\"\n      }\n    },\n    {\n      \"column\": \"theme_name\",\n      \"properties\": {\n        \"dtype\": \"category\",\n        \"num_unique_values\": 40,\n        \"samples\": [\n          \"Indoraptor Rampage at Lockwood Estate\",\n          \"Friends\",\n          \"Elves\"\n        ],\n        \"semantic_type\": \"\",\n        \"description\": \"\"\n      }\n    },\n    {\n      \"column\": \"val_star_rating\",\n      \"properties\": {\n        \"dtype\": \"number\",\n        \"std\": 0.6602821277744396,\n        \"min\": 1.0,\n        \"max\": 5.0,\n        \"num_unique_values\": 33,\n        \"samples\": [\n          1.9,\n          3.3,\n          2.6\n        ],\n        \"semantic_type\": \"\",\n        \"description\": \"\"\n      }\n    },\n    {\n      \"column\": \"country\",\n      \"properties\": {\n        \"dtype\": \"category\",\n        \"num_unique_values\": 21,\n        \"samples\": [\n          \"US\",\n          \"NL\",\n          \"LU\"\n        ],\n        \"semantic_type\": \"\",\n        \"description\": \"\"\n      }\n    }\n  ]\n}"
            }
          },
          "metadata": {},
          "execution_count": 1
        }
      ],
      "source": [
        "# Import pandas\n",
        "import pandas as pd\n",
        "\n",
        "\n",
        "# Import the 'lego_sets.csv' dataset\n",
        "df = pd.read_csv('lego_sets.csv')\n",
        "\n",
        "# Print the first five rows of DataFrame\n",
        "df.head()"
      ]
    },
    {
      "cell_type": "markdown",
      "metadata": {
        "id": "MC80May9OkYg"
      },
      "source": [
        "## Getting DataFrame-Level Statistics\n",
        "\n",
        "We'll begin by getting some overall summary statistics on the dataset. There are two ways we'll get this information -- `.info()` and `.describe()`.\n",
        "\n",
        "The `.info()` method provides us metadata on the DataFrame itself. This allows us to answer questions such as:\n",
        "\n",
        "* What data type does each column contain?\n",
        "* How many rows are in my dataset?\n",
        "* How many total non-missing values does each column contain?\n",
        "* How much memory does the DataFrame take up?\n",
        "\n",
        "In the cell below, call our DataFrame's `.info()` method."
      ]
    },
    {
      "cell_type": "code",
      "execution_count": 2,
      "metadata": {
        "id": "wdBBxdsJOkYg",
        "outputId": "6a04ce41-4a2a-49b7-9f42-c4a85772e269",
        "colab": {
          "base_uri": "https://localhost:8080/"
        }
      },
      "outputs": [
        {
          "output_type": "stream",
          "name": "stdout",
          "text": [
            "<class 'pandas.core.frame.DataFrame'>\n",
            "RangeIndex: 12261 entries, 0 to 12260\n",
            "Data columns (total 14 columns):\n",
            " #   Column             Non-Null Count  Dtype  \n",
            "---  ------             --------------  -----  \n",
            " 0   ages               12261 non-null  object \n",
            " 1   list_price         12261 non-null  float64\n",
            " 2   num_reviews        10641 non-null  float64\n",
            " 3   piece_count        12261 non-null  int64  \n",
            " 4   play_star_rating   10486 non-null  float64\n",
            " 5   prod_desc          11884 non-null  object \n",
            " 6   prod_id            12261 non-null  int64  \n",
            " 7   prod_long_desc     12261 non-null  object \n",
            " 8   review_difficulty  10206 non-null  object \n",
            " 9   set_name           12261 non-null  object \n",
            " 10  star_rating        10641 non-null  float64\n",
            " 11  theme_name         12258 non-null  object \n",
            " 12  val_star_rating    10466 non-null  float64\n",
            " 13  country            12261 non-null  object \n",
            "dtypes: float64(5), int64(2), object(7)\n",
            "memory usage: 1.3+ MB\n"
          ]
        }
      ],
      "source": [
        "# Call the .info() method\n",
        "df.info()"
      ]
    },
    {
      "cell_type": "markdown",
      "metadata": {
        "id": "dkHXn1qyOkYg"
      },
      "source": [
        "#### Interpreting the Results\n",
        "\n",
        "Read the output above, and then answer the following questions:\n",
        "\n",
        "- How many total rows are in this DataFrame?  \n",
        "- How many columns contain numeric data?\n",
        "- How many contain categorical data?\n",
        "- Identify at least 3 columns that contain missing values.\n",
        "\n",
        "Write your answer below this line:\n",
        "________________________________________________________________________________________________________________________________"
      ]
    },
    {
      "cell_type": "markdown",
      "source": [
        "There are 12261 rows. 7 columns contain numeric data. 7 contains categorical data. num_reviews, play_star_rating and prod_desc all contain missing values"
      ],
      "metadata": {
        "id": "BiREMlxaPJ4P"
      }
    },
    {
      "cell_type": "markdown",
      "metadata": {
        "id": "L9Dj_6GUOkYh"
      },
      "source": [
        "Whereas `.info()` provides statistics about the DataFrame itself, `.describe()` returns output containing basic summary statistics about the data contained with the DataFrame.  \n",
        "\n",
        "In the cell below, call the DataFrame's `.describe()` method."
      ]
    },
    {
      "cell_type": "code",
      "execution_count": 3,
      "metadata": {
        "id": "2DK3sdZlOkYh",
        "outputId": "cf788599-3c1e-4468-b6a9-9c01217d0664",
        "colab": {
          "base_uri": "https://localhost:8080/",
          "height": 300
        }
      },
      "outputs": [
        {
          "output_type": "execute_result",
          "data": {
            "text/plain": [
              "         list_price   num_reviews   piece_count  play_star_rating  \\\n",
              "count  12261.000000  10641.000000  12261.000000      10486.000000   \n",
              "mean      65.141998     16.826238    493.405921          4.337641   \n",
              "std       91.980429     36.368984    825.364580          0.652051   \n",
              "min        2.272400      1.000000      1.000000          1.000000   \n",
              "25%       19.990000      2.000000     97.000000          4.000000   \n",
              "50%       36.587800      6.000000    216.000000          4.500000   \n",
              "75%       70.192200     13.000000    544.000000          4.800000   \n",
              "max     1104.870000    367.000000   7541.000000          5.000000   \n",
              "\n",
              "            prod_id   star_rating  val_star_rating  \n",
              "count  1.226100e+04  10641.000000     10466.000000  \n",
              "mean   5.983675e+04      4.514134         4.228960  \n",
              "std    1.638115e+05      0.518865         0.660282  \n",
              "min    6.300000e+02      1.800000         1.000000  \n",
              "25%    2.103400e+04      4.300000         4.000000  \n",
              "50%    4.206900e+04      4.700000         4.300000  \n",
              "75%    7.092200e+04      5.000000         4.700000  \n",
              "max    2.000431e+06      5.000000         5.000000  "
            ],
            "text/html": [
              "\n",
              "  <div id=\"df-58d75224-7207-4361-89d6-4384f42a30c6\" class=\"colab-df-container\">\n",
              "    <div>\n",
              "<style scoped>\n",
              "    .dataframe tbody tr th:only-of-type {\n",
              "        vertical-align: middle;\n",
              "    }\n",
              "\n",
              "    .dataframe tbody tr th {\n",
              "        vertical-align: top;\n",
              "    }\n",
              "\n",
              "    .dataframe thead th {\n",
              "        text-align: right;\n",
              "    }\n",
              "</style>\n",
              "<table border=\"1\" class=\"dataframe\">\n",
              "  <thead>\n",
              "    <tr style=\"text-align: right;\">\n",
              "      <th></th>\n",
              "      <th>list_price</th>\n",
              "      <th>num_reviews</th>\n",
              "      <th>piece_count</th>\n",
              "      <th>play_star_rating</th>\n",
              "      <th>prod_id</th>\n",
              "      <th>star_rating</th>\n",
              "      <th>val_star_rating</th>\n",
              "    </tr>\n",
              "  </thead>\n",
              "  <tbody>\n",
              "    <tr>\n",
              "      <th>count</th>\n",
              "      <td>12261.000000</td>\n",
              "      <td>10641.000000</td>\n",
              "      <td>12261.000000</td>\n",
              "      <td>10486.000000</td>\n",
              "      <td>1.226100e+04</td>\n",
              "      <td>10641.000000</td>\n",
              "      <td>10466.000000</td>\n",
              "    </tr>\n",
              "    <tr>\n",
              "      <th>mean</th>\n",
              "      <td>65.141998</td>\n",
              "      <td>16.826238</td>\n",
              "      <td>493.405921</td>\n",
              "      <td>4.337641</td>\n",
              "      <td>5.983675e+04</td>\n",
              "      <td>4.514134</td>\n",
              "      <td>4.228960</td>\n",
              "    </tr>\n",
              "    <tr>\n",
              "      <th>std</th>\n",
              "      <td>91.980429</td>\n",
              "      <td>36.368984</td>\n",
              "      <td>825.364580</td>\n",
              "      <td>0.652051</td>\n",
              "      <td>1.638115e+05</td>\n",
              "      <td>0.518865</td>\n",
              "      <td>0.660282</td>\n",
              "    </tr>\n",
              "    <tr>\n",
              "      <th>min</th>\n",
              "      <td>2.272400</td>\n",
              "      <td>1.000000</td>\n",
              "      <td>1.000000</td>\n",
              "      <td>1.000000</td>\n",
              "      <td>6.300000e+02</td>\n",
              "      <td>1.800000</td>\n",
              "      <td>1.000000</td>\n",
              "    </tr>\n",
              "    <tr>\n",
              "      <th>25%</th>\n",
              "      <td>19.990000</td>\n",
              "      <td>2.000000</td>\n",
              "      <td>97.000000</td>\n",
              "      <td>4.000000</td>\n",
              "      <td>2.103400e+04</td>\n",
              "      <td>4.300000</td>\n",
              "      <td>4.000000</td>\n",
              "    </tr>\n",
              "    <tr>\n",
              "      <th>50%</th>\n",
              "      <td>36.587800</td>\n",
              "      <td>6.000000</td>\n",
              "      <td>216.000000</td>\n",
              "      <td>4.500000</td>\n",
              "      <td>4.206900e+04</td>\n",
              "      <td>4.700000</td>\n",
              "      <td>4.300000</td>\n",
              "    </tr>\n",
              "    <tr>\n",
              "      <th>75%</th>\n",
              "      <td>70.192200</td>\n",
              "      <td>13.000000</td>\n",
              "      <td>544.000000</td>\n",
              "      <td>4.800000</td>\n",
              "      <td>7.092200e+04</td>\n",
              "      <td>5.000000</td>\n",
              "      <td>4.700000</td>\n",
              "    </tr>\n",
              "    <tr>\n",
              "      <th>max</th>\n",
              "      <td>1104.870000</td>\n",
              "      <td>367.000000</td>\n",
              "      <td>7541.000000</td>\n",
              "      <td>5.000000</td>\n",
              "      <td>2.000431e+06</td>\n",
              "      <td>5.000000</td>\n",
              "      <td>5.000000</td>\n",
              "    </tr>\n",
              "  </tbody>\n",
              "</table>\n",
              "</div>\n",
              "    <div class=\"colab-df-buttons\">\n",
              "\n",
              "  <div class=\"colab-df-container\">\n",
              "    <button class=\"colab-df-convert\" onclick=\"convertToInteractive('df-58d75224-7207-4361-89d6-4384f42a30c6')\"\n",
              "            title=\"Convert this dataframe to an interactive table.\"\n",
              "            style=\"display:none;\">\n",
              "\n",
              "  <svg xmlns=\"http://www.w3.org/2000/svg\" height=\"24px\" viewBox=\"0 -960 960 960\">\n",
              "    <path d=\"M120-120v-720h720v720H120Zm60-500h600v-160H180v160Zm220 220h160v-160H400v160Zm0 220h160v-160H400v160ZM180-400h160v-160H180v160Zm440 0h160v-160H620v160ZM180-180h160v-160H180v160Zm440 0h160v-160H620v160Z\"/>\n",
              "  </svg>\n",
              "    </button>\n",
              "\n",
              "  <style>\n",
              "    .colab-df-container {\n",
              "      display:flex;\n",
              "      gap: 12px;\n",
              "    }\n",
              "\n",
              "    .colab-df-convert {\n",
              "      background-color: #E8F0FE;\n",
              "      border: none;\n",
              "      border-radius: 50%;\n",
              "      cursor: pointer;\n",
              "      display: none;\n",
              "      fill: #1967D2;\n",
              "      height: 32px;\n",
              "      padding: 0 0 0 0;\n",
              "      width: 32px;\n",
              "    }\n",
              "\n",
              "    .colab-df-convert:hover {\n",
              "      background-color: #E2EBFA;\n",
              "      box-shadow: 0px 1px 2px rgba(60, 64, 67, 0.3), 0px 1px 3px 1px rgba(60, 64, 67, 0.15);\n",
              "      fill: #174EA6;\n",
              "    }\n",
              "\n",
              "    .colab-df-buttons div {\n",
              "      margin-bottom: 4px;\n",
              "    }\n",
              "\n",
              "    [theme=dark] .colab-df-convert {\n",
              "      background-color: #3B4455;\n",
              "      fill: #D2E3FC;\n",
              "    }\n",
              "\n",
              "    [theme=dark] .colab-df-convert:hover {\n",
              "      background-color: #434B5C;\n",
              "      box-shadow: 0px 1px 3px 1px rgba(0, 0, 0, 0.15);\n",
              "      filter: drop-shadow(0px 1px 2px rgba(0, 0, 0, 0.3));\n",
              "      fill: #FFFFFF;\n",
              "    }\n",
              "  </style>\n",
              "\n",
              "    <script>\n",
              "      const buttonEl =\n",
              "        document.querySelector('#df-58d75224-7207-4361-89d6-4384f42a30c6 button.colab-df-convert');\n",
              "      buttonEl.style.display =\n",
              "        google.colab.kernel.accessAllowed ? 'block' : 'none';\n",
              "\n",
              "      async function convertToInteractive(key) {\n",
              "        const element = document.querySelector('#df-58d75224-7207-4361-89d6-4384f42a30c6');\n",
              "        const dataTable =\n",
              "          await google.colab.kernel.invokeFunction('convertToInteractive',\n",
              "                                                    [key], {});\n",
              "        if (!dataTable) return;\n",
              "\n",
              "        const docLinkHtml = 'Like what you see? Visit the ' +\n",
              "          '<a target=\"_blank\" href=https://colab.research.google.com/notebooks/data_table.ipynb>data table notebook</a>'\n",
              "          + ' to learn more about interactive tables.';\n",
              "        element.innerHTML = '';\n",
              "        dataTable['output_type'] = 'display_data';\n",
              "        await google.colab.output.renderOutput(dataTable, element);\n",
              "        const docLink = document.createElement('div');\n",
              "        docLink.innerHTML = docLinkHtml;\n",
              "        element.appendChild(docLink);\n",
              "      }\n",
              "    </script>\n",
              "  </div>\n",
              "\n",
              "\n",
              "<div id=\"df-a5c41ad6-bcae-4a93-aa8b-3e980dce4151\">\n",
              "  <button class=\"colab-df-quickchart\" onclick=\"quickchart('df-a5c41ad6-bcae-4a93-aa8b-3e980dce4151')\"\n",
              "            title=\"Suggest charts\"\n",
              "            style=\"display:none;\">\n",
              "\n",
              "<svg xmlns=\"http://www.w3.org/2000/svg\" height=\"24px\"viewBox=\"0 0 24 24\"\n",
              "     width=\"24px\">\n",
              "    <g>\n",
              "        <path d=\"M19 3H5c-1.1 0-2 .9-2 2v14c0 1.1.9 2 2 2h14c1.1 0 2-.9 2-2V5c0-1.1-.9-2-2-2zM9 17H7v-7h2v7zm4 0h-2V7h2v10zm4 0h-2v-4h2v4z\"/>\n",
              "    </g>\n",
              "</svg>\n",
              "  </button>\n",
              "\n",
              "<style>\n",
              "  .colab-df-quickchart {\n",
              "      --bg-color: #E8F0FE;\n",
              "      --fill-color: #1967D2;\n",
              "      --hover-bg-color: #E2EBFA;\n",
              "      --hover-fill-color: #174EA6;\n",
              "      --disabled-fill-color: #AAA;\n",
              "      --disabled-bg-color: #DDD;\n",
              "  }\n",
              "\n",
              "  [theme=dark] .colab-df-quickchart {\n",
              "      --bg-color: #3B4455;\n",
              "      --fill-color: #D2E3FC;\n",
              "      --hover-bg-color: #434B5C;\n",
              "      --hover-fill-color: #FFFFFF;\n",
              "      --disabled-bg-color: #3B4455;\n",
              "      --disabled-fill-color: #666;\n",
              "  }\n",
              "\n",
              "  .colab-df-quickchart {\n",
              "    background-color: var(--bg-color);\n",
              "    border: none;\n",
              "    border-radius: 50%;\n",
              "    cursor: pointer;\n",
              "    display: none;\n",
              "    fill: var(--fill-color);\n",
              "    height: 32px;\n",
              "    padding: 0;\n",
              "    width: 32px;\n",
              "  }\n",
              "\n",
              "  .colab-df-quickchart:hover {\n",
              "    background-color: var(--hover-bg-color);\n",
              "    box-shadow: 0 1px 2px rgba(60, 64, 67, 0.3), 0 1px 3px 1px rgba(60, 64, 67, 0.15);\n",
              "    fill: var(--button-hover-fill-color);\n",
              "  }\n",
              "\n",
              "  .colab-df-quickchart-complete:disabled,\n",
              "  .colab-df-quickchart-complete:disabled:hover {\n",
              "    background-color: var(--disabled-bg-color);\n",
              "    fill: var(--disabled-fill-color);\n",
              "    box-shadow: none;\n",
              "  }\n",
              "\n",
              "  .colab-df-spinner {\n",
              "    border: 2px solid var(--fill-color);\n",
              "    border-color: transparent;\n",
              "    border-bottom-color: var(--fill-color);\n",
              "    animation:\n",
              "      spin 1s steps(1) infinite;\n",
              "  }\n",
              "\n",
              "  @keyframes spin {\n",
              "    0% {\n",
              "      border-color: transparent;\n",
              "      border-bottom-color: var(--fill-color);\n",
              "      border-left-color: var(--fill-color);\n",
              "    }\n",
              "    20% {\n",
              "      border-color: transparent;\n",
              "      border-left-color: var(--fill-color);\n",
              "      border-top-color: var(--fill-color);\n",
              "    }\n",
              "    30% {\n",
              "      border-color: transparent;\n",
              "      border-left-color: var(--fill-color);\n",
              "      border-top-color: var(--fill-color);\n",
              "      border-right-color: var(--fill-color);\n",
              "    }\n",
              "    40% {\n",
              "      border-color: transparent;\n",
              "      border-right-color: var(--fill-color);\n",
              "      border-top-color: var(--fill-color);\n",
              "    }\n",
              "    60% {\n",
              "      border-color: transparent;\n",
              "      border-right-color: var(--fill-color);\n",
              "    }\n",
              "    80% {\n",
              "      border-color: transparent;\n",
              "      border-right-color: var(--fill-color);\n",
              "      border-bottom-color: var(--fill-color);\n",
              "    }\n",
              "    90% {\n",
              "      border-color: transparent;\n",
              "      border-bottom-color: var(--fill-color);\n",
              "    }\n",
              "  }\n",
              "</style>\n",
              "\n",
              "  <script>\n",
              "    async function quickchart(key) {\n",
              "      const quickchartButtonEl =\n",
              "        document.querySelector('#' + key + ' button');\n",
              "      quickchartButtonEl.disabled = true;  // To prevent multiple clicks.\n",
              "      quickchartButtonEl.classList.add('colab-df-spinner');\n",
              "      try {\n",
              "        const charts = await google.colab.kernel.invokeFunction(\n",
              "            'suggestCharts', [key], {});\n",
              "      } catch (error) {\n",
              "        console.error('Error during call to suggestCharts:', error);\n",
              "      }\n",
              "      quickchartButtonEl.classList.remove('colab-df-spinner');\n",
              "      quickchartButtonEl.classList.add('colab-df-quickchart-complete');\n",
              "    }\n",
              "    (() => {\n",
              "      let quickchartButtonEl =\n",
              "        document.querySelector('#df-a5c41ad6-bcae-4a93-aa8b-3e980dce4151 button');\n",
              "      quickchartButtonEl.style.display =\n",
              "        google.colab.kernel.accessAllowed ? 'block' : 'none';\n",
              "    })();\n",
              "  </script>\n",
              "</div>\n",
              "\n",
              "    </div>\n",
              "  </div>\n"
            ],
            "application/vnd.google.colaboratory.intrinsic+json": {
              "type": "dataframe",
              "summary": "{\n  \"name\": \"df\",\n  \"rows\": 8,\n  \"fields\": [\n    {\n      \"column\": \"list_price\",\n      \"properties\": {\n        \"dtype\": \"number\",\n        \"std\": 4280.770559891539,\n        \"min\": 2.2724,\n        \"max\": 12261.0,\n        \"num_unique_values\": 8,\n        \"samples\": [\n          65.14199840959138,\n          36.5878,\n          12261.0\n        ],\n        \"semantic_type\": \"\",\n        \"description\": \"\"\n      }\n    },\n    {\n      \"column\": \"num_reviews\",\n      \"properties\": {\n        \"dtype\": \"number\",\n        \"std\": 3741.9004679517748,\n        \"min\": 1.0,\n        \"max\": 10641.0,\n        \"num_unique_values\": 8,\n        \"samples\": [\n          16.82623813551358,\n          6.0,\n          10641.0\n        ],\n        \"semantic_type\": \"\",\n        \"description\": \"\"\n      }\n    },\n    {\n      \"column\": \"piece_count\",\n      \"properties\": {\n        \"dtype\": \"number\",\n        \"std\": 4599.568085286428,\n        \"min\": 1.0,\n        \"max\": 12261.0,\n        \"num_unique_values\": 8,\n        \"samples\": [\n          493.40592121360413,\n          216.0,\n          12261.0\n        ],\n        \"semantic_type\": \"\",\n        \"description\": \"\"\n      }\n    },\n    {\n      \"column\": \"play_star_rating\",\n      \"properties\": {\n        \"dtype\": \"number\",\n        \"std\": 3706.1344292724502,\n        \"min\": 0.6520510342493991,\n        \"max\": 10486.0,\n        \"num_unique_values\": 8,\n        \"samples\": [\n          4.337640663742133,\n          4.5,\n          10486.0\n        ],\n        \"semantic_type\": \"\",\n        \"description\": \"\"\n      }\n    },\n    {\n      \"column\": \"prod_id\",\n      \"properties\": {\n        \"dtype\": \"number\",\n        \"std\": 690427.343966095,\n        \"min\": 630.0,\n        \"max\": 2000431.0,\n        \"num_unique_values\": 8,\n        \"samples\": [\n          59836.7523040535,\n          42069.0,\n          12261.0\n        ],\n        \"semantic_type\": \"\",\n        \"description\": \"\"\n      }\n    },\n    {\n      \"column\": \"star_rating\",\n      \"properties\": {\n        \"dtype\": \"number\",\n        \"std\": 3760.8572291636324,\n        \"min\": 0.5188653617448266,\n        \"max\": 10641.0,\n        \"num_unique_values\": 7,\n        \"samples\": [\n          10641.0,\n          4.514134009961469,\n          4.7\n        ],\n        \"semantic_type\": \"\",\n        \"description\": \"\"\n      }\n    },\n    {\n      \"column\": \"val_star_rating\",\n      \"properties\": {\n        \"dtype\": \"number\",\n        \"std\": 3699.083571061946,\n        \"min\": 0.6602821277744396,\n        \"max\": 10466.0,\n        \"num_unique_values\": 8,\n        \"samples\": [\n          4.22896044334034,\n          4.3,\n          10466.0\n        ],\n        \"semantic_type\": \"\",\n        \"description\": \"\"\n      }\n    }\n  ]\n}"
            }
          },
          "metadata": {},
          "execution_count": 3
        }
      ],
      "source": [
        "# Call the .describe() method\n",
        "df.describe()"
      ]
    },
    {
      "cell_type": "markdown",
      "metadata": {
        "id": "IusOPbWNOkYh"
      },
      "source": [
        "#### Interpreting the Results\n",
        "\n",
        "The output contains descriptive statistics corresponding to the columns. Use these to answer the following questions:\n",
        "\n",
        "- How much is the standard deviation for `piece count`?\n",
        "- How many pieces are in the largest lego set?\n",
        "- How many in the smallest lego set? What is the median `val_star_rating`?\n",
        "\n",
        "________________________________________________________________________________________________________________________________"
      ]
    },
    {
      "cell_type": "markdown",
      "source": [
        "825.364580,\n",
        "7541,\n",
        "1"
      ],
      "metadata": {
        "id": "dS-3yrwaPn0V"
      }
    },
    {
      "cell_type": "markdown",
      "metadata": {
        "id": "wr3UUgFHOkYh"
      },
      "source": [
        "## Getting Summary Statistics\n",
        "\n",
        "Pandas also allows us to easily compute individual summary statistics using built-in methods.  Next, we'll get some practice using these methods.\n",
        "\n",
        "In the cell below, compute the median value of the `star_rating` column."
      ]
    },
    {
      "cell_type": "code",
      "execution_count": 4,
      "metadata": {
        "id": "g3R5U7PgOkYh",
        "outputId": "4ea64c71-889b-4447-f2e5-e8337f5e5cee",
        "colab": {
          "base_uri": "https://localhost:8080/"
        }
      },
      "outputs": [
        {
          "output_type": "execute_result",
          "data": {
            "text/plain": [
              "4.7"
            ]
          },
          "metadata": {},
          "execution_count": 4
        }
      ],
      "source": [
        "# Calculate the median of the star_rating column\n",
        "df['star_rating'].median()"
      ]
    },
    {
      "cell_type": "markdown",
      "metadata": {
        "id": "7_12rRY_OkYh"
      },
      "source": [
        "Next, get a count of the total number of unique values in `play_star_rating`."
      ]
    },
    {
      "cell_type": "code",
      "execution_count": 11,
      "metadata": {
        "id": "yNeh06G-OkYh",
        "outputId": "72e5842d-f287-4b88-e9d8-b7130fdc957b",
        "colab": {
          "base_uri": "https://localhost:8080/"
        }
      },
      "outputs": [
        {
          "output_type": "execute_result",
          "data": {
            "text/plain": [
              "play_star_rating\n",
              "5.0    2219\n",
              "4.5    1136\n",
              "4.7     840\n",
              "4.0     816\n",
              "4.3     793\n",
              "4.6     685\n",
              "4.4     566\n",
              "4.8     504\n",
              "4.2     467\n",
              "4.1     320\n",
              "3.9     281\n",
              "3.6     213\n",
              "3.5     204\n",
              "4.9     204\n",
              "3.0     202\n",
              "3.2     192\n",
              "3.7     186\n",
              "3.8     148\n",
              "2.0     126\n",
              "3.3     120\n",
              "2.7      64\n",
              "1.0      42\n",
              "2.5      42\n",
              "2.2      42\n",
              "3.4      25\n",
              "2.9      21\n",
              "2.3      20\n",
              "3.1       4\n",
              "2.8       2\n",
              "2.1       2\n",
              "Name: count, dtype: int64"
            ]
          },
          "metadata": {},
          "execution_count": 11
        }
      ],
      "source": [
        "# Print the number of unique values in play_star_rating\n",
        "df['play_star_rating'].value_counts()"
      ]
    },
    {
      "cell_type": "markdown",
      "metadata": {
        "id": "Ujpz0UASOkYh"
      },
      "source": [
        "Now, compute the standard deviation of the `list_price` column."
      ]
    },
    {
      "cell_type": "code",
      "execution_count": 7,
      "metadata": {
        "id": "dt2Wjm75OkYh",
        "outputId": "4716f9b6-c7e3-4f23-d2d7-c4f7f4742f1c",
        "colab": {
          "base_uri": "https://localhost:8080/"
        }
      },
      "outputs": [
        {
          "output_type": "execute_result",
          "data": {
            "text/plain": [
              "91.9804293059243"
            ]
          },
          "metadata": {},
          "execution_count": 7
        }
      ],
      "source": [
        "# Calculate the standard deviation of the list_price column\n",
        "df['list_price'].std()"
      ]
    },
    {
      "cell_type": "markdown",
      "metadata": {
        "id": "mmf-tuDeOkYi"
      },
      "source": [
        "If we bought every single lego set in this dataset, how many pieces would we have?  \n",
        "\n",
        "> **Note**: If you truly want to answer this accurately, and are up for the challenge, remove duplicate lego-set entries before summing the pieces. That is, many of the lego sets are listed multiple times in the dataset above, depending on the country where it is being sold and other unique parameters. If you're stuck, just practice calculating the total number of pieces in the dataset for now."
      ]
    },
    {
      "cell_type": "code",
      "source": [
        "df['set_name'].value_counts()"
      ],
      "metadata": {
        "id": "F1vBgaYWReyd",
        "outputId": "19c14d74-2325-4883-92ba-39d1add9c08d",
        "colab": {
          "base_uri": "https://localhost:8080/"
        }
      },
      "execution_count": 13,
      "outputs": [
        {
          "output_type": "execute_result",
          "data": {
            "text/plain": [
              "set_name\n",
              "Chewbacca™                            63\n",
              "Kylo Ren™                             63\n",
              "Rey                                   63\n",
              "Han Solo™                             62\n",
              "Y-Wing Starfighter™                   42\n",
              "                                      ..\n",
              "Lost Temple                            2\n",
              "Spider-Man™ Hideout                    2\n",
              "Andrea & Stephanie's Beach Holiday     2\n",
              "Moana's Ocean Voyage                   1\n",
              "My First Vehicles                      1\n",
              "Name: count, Length: 741, dtype: int64"
            ]
          },
          "metadata": {},
          "execution_count": 13
        }
      ]
    },
    {
      "cell_type": "code",
      "source": [
        "df['piece_count'].sum()"
      ],
      "metadata": {
        "id": "tRzj5f5YRviy",
        "outputId": "928091c9-39da-4601-d397-331f958807d2",
        "colab": {
          "base_uri": "https://localhost:8080/"
        }
      },
      "execution_count": 16,
      "outputs": [
        {
          "output_type": "execute_result",
          "data": {
            "text/plain": [
              "6049650"
            ]
          },
          "metadata": {},
          "execution_count": 16
        }
      ]
    },
    {
      "cell_type": "code",
      "execution_count": 17,
      "metadata": {
        "id": "9cqKj-4eOkYi",
        "outputId": "3169556c-6ea2-48c1-b5bc-3ea9fba24846",
        "colab": {
          "base_uri": "https://localhost:8080/"
        }
      },
      "outputs": [
        {
          "output_type": "execute_result",
          "data": {
            "text/plain": [
              "319067"
            ]
          },
          "metadata": {},
          "execution_count": 17
        }
      ],
      "source": [
        "# Total number of pieces across all unique Lego sets\n",
        "df.drop_duplicates('set_name')['piece_count'].sum()"
      ]
    },
    {
      "cell_type": "markdown",
      "metadata": {
        "id": "LzN0kWUMOkYi"
      },
      "source": [
        "Now, let's try getting the value for the 90% quantile for all numerical columns.  Do this in the cell below."
      ]
    },
    {
      "cell_type": "code",
      "execution_count": 24,
      "metadata": {
        "id": "Ue4oE1fdOkYi",
        "outputId": "0f4d0ca9-eb37-4bfb-bab7-437f4de03ee4",
        "colab": {
          "base_uri": "https://localhost:8080/"
        }
      },
      "outputs": [
        {
          "output_type": "execute_result",
          "data": {
            "text/plain": [
              "list_price            136.2971\n",
              "num_reviews            38.0000\n",
              "piece_count          1077.0000\n",
              "play_star_rating        5.0000\n",
              "prod_id             75531.0000\n",
              "star_rating             5.0000\n",
              "val_star_rating         5.0000\n",
              "Name: 0.9, dtype: float64"
            ]
          },
          "metadata": {},
          "execution_count": 24
        }
      ],
      "source": [
        "# Get the 90% quantile for all numerical columns\n",
        "df.select_dtypes(include=['number']).quantile(.9)"
      ]
    },
    {
      "cell_type": "markdown",
      "metadata": {
        "id": "VVQuc39lOkYi"
      },
      "source": [
        "## Getting Summary Statistics on Categorical Data\n",
        "\n",
        "For obvious reasons, most of the methods we've used so far only work with numerical data -- there's no way to calculate the standard deviation of a column containing string values. However, there are some things that we can discover about columns containing categorical data.\n",
        "\n",
        "In the cell below, print the unique values contained within the `review_difficulty` column."
      ]
    },
    {
      "cell_type": "code",
      "execution_count": 25,
      "metadata": {
        "id": "PP4SmzyeOkYi",
        "outputId": "036bb828-c9f9-4efc-d3cb-7c405c68a20f",
        "colab": {
          "base_uri": "https://localhost:8080/"
        }
      },
      "outputs": [
        {
          "output_type": "execute_result",
          "data": {
            "text/plain": [
              "array(['Average', 'Easy', 'Challenging', 'Very Easy', nan,\n",
              "       'Very Challenging'], dtype=object)"
            ]
          },
          "metadata": {},
          "execution_count": 25
        }
      ],
      "source": [
        "# Print the unique values in the review_difficulty column\n",
        "df['review_difficulty'].unique()"
      ]
    },
    {
      "cell_type": "markdown",
      "metadata": {
        "id": "3VCIaeF0OkYi"
      },
      "source": [
        "Now, let's get the `value_counts()` for this column, to see how common each is."
      ]
    },
    {
      "cell_type": "code",
      "execution_count": 27,
      "metadata": {
        "id": "1I0PWurAOkYi",
        "outputId": "de7d7097-8aa9-4c9c-e00b-d860c21807d4",
        "colab": {
          "base_uri": "https://localhost:8080/"
        }
      },
      "outputs": [
        {
          "output_type": "execute_result",
          "data": {
            "text/plain": [
              "review_difficulty\n",
              "Easy                4236\n",
              "Average             3765\n",
              "Very Easy           1139\n",
              "Challenging         1058\n",
              "Very Challenging       8\n",
              "Name: count, dtype: int64"
            ]
          },
          "metadata": {},
          "execution_count": 27
        }
      ],
      "source": [
        "# Get the value_counts() of the review_difficulty column\n",
        "df['review_difficulty'].value_counts()"
      ]
    },
    {
      "cell_type": "markdown",
      "metadata": {
        "id": "6fCymOr6OkYi"
      },
      "source": [
        "As you can see, these provide us quick and easy ways to get information on columns containing categorical information.  \n",
        "\n",
        "\n",
        "## Using `.applymap()`\n",
        "\n",
        "When working with pandas DataFrames, we can quickly compute functions on the data contained by using the `.applymap()` method and passing in a lambda function.\n",
        "\n",
        "For instance, we can use `applymap()` to return a version of the DataFrame where every value has been converted to a string.\n",
        "\n",
        "In the cell below:\n",
        "\n",
        "* Call the DataFrame's `.applymap()` method and pass in `lambda x: str(x)`  \n",
        "* Call the new `string_df` object's `.info()` method to confirm that everything has been cast to a string"
      ]
    },
    {
      "cell_type": "code",
      "execution_count": 28,
      "metadata": {
        "id": "jWImU4p-OkYi",
        "outputId": "3c566523-3107-4ecf-8cd6-66ab5076def7",
        "colab": {
          "base_uri": "https://localhost:8080/"
        }
      },
      "outputs": [
        {
          "output_type": "stream",
          "name": "stdout",
          "text": [
            "<class 'pandas.core.frame.DataFrame'>\n",
            "RangeIndex: 12261 entries, 0 to 12260\n",
            "Data columns (total 14 columns):\n",
            " #   Column             Non-Null Count  Dtype \n",
            "---  ------             --------------  ----- \n",
            " 0   ages               12261 non-null  object\n",
            " 1   list_price         12261 non-null  object\n",
            " 2   num_reviews        12261 non-null  object\n",
            " 3   piece_count        12261 non-null  object\n",
            " 4   play_star_rating   12261 non-null  object\n",
            " 5   prod_desc          12261 non-null  object\n",
            " 6   prod_id            12261 non-null  object\n",
            " 7   prod_long_desc     12261 non-null  object\n",
            " 8   review_difficulty  12261 non-null  object\n",
            " 9   set_name           12261 non-null  object\n",
            " 10  star_rating        12261 non-null  object\n",
            " 11  theme_name         12261 non-null  object\n",
            " 12  val_star_rating    12261 non-null  object\n",
            " 13  country            12261 non-null  object\n",
            "dtypes: object(14)\n",
            "memory usage: 1.3+ MB\n"
          ]
        }
      ],
      "source": [
        "# Call the .applymap() method\n",
        "string_df = df.applymap(lambda x: str(x))\n",
        "string_df.info()\n",
        "\n",
        "# Call the .info() method\n"
      ]
    },
    {
      "cell_type": "markdown",
      "metadata": {
        "id": "UFQNOuljOkYj"
      },
      "source": [
        "Note that everything -- even the `NaN` values, have been cast to a string in the example above.\n",
        "\n",
        "Note that for Pandas Series objects (such as a single column in a DataFrame), we can do the same thing using the `.apply()` method.  \n",
        "\n",
        "This is just one example of how we can quickly compute custom functions on our DataFrame.\n",
        "\n",
        "## Summary\n",
        "\n",
        "In this lab, we learned how to:\n",
        "\n",
        "* Use the `df.describe()` and `df.info()` summary statistics methods\n",
        "* Use built-in Pandas methods for calculating summary statistics\n",
        "* Apply a function to every element in a DataFrame"
      ]
    }
  ],
  "metadata": {
    "kernelspec": {
      "display_name": "Python 3",
      "language": "python",
      "name": "python3"
    },
    "language_info": {
      "codemirror_mode": {
        "name": "ipython",
        "version": 3
      },
      "file_extension": ".py",
      "mimetype": "text/x-python",
      "name": "python",
      "nbconvert_exporter": "python",
      "pygments_lexer": "ipython3",
      "version": "3.7.3"
    },
    "colab": {
      "provenance": []
    }
  },
  "nbformat": 4,
  "nbformat_minor": 0
}